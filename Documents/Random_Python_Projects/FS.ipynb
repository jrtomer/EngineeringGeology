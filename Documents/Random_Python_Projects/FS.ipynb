{
 "cells": [
  {
   "cell_type": "code",
   "execution_count": 1,
   "id": "41d1369d-8560-4a0a-895f-027a6e7e757f",
   "metadata": {},
   "outputs": [
    {
     "name": "stdout",
     "output_type": "stream",
     "text": [
      "The slope is stable, FS: 1.8670960969378272\n"
     ]
    }
   ],
   "source": [
    "import math\n",
    "\n",
    "alpha = 37.6 #Slope of ground surface (degrees)\n",
    "D = 2.32 #total soil thickness (m)\n",
    "Dw = 2.088 #saturated soil thickness(m)\n",
    "Cr = 10 #root cohesion(kPa)\n",
    "q = 0.5 #vegetation surcharge (kPa)\n",
    "Cs = 20 #soil cohesion (kPa)\n",
    "thi = 30 #internal angle of friction (degrees)\n",
    "y = 16 #moist soil unit weight (kN/m^3)\n",
    "ysat = 18 #saturated unit weight (kN/m^3)\n",
    "yw = 9.81 #water unit weight (kN/m^3)\n",
    "\n",
    "#Function that calculates radians from angles.\n",
    "\n",
    "def toRadians(angle):\n",
    "    return(angle * (math.pi / 180))\n",
    "\n",
    "#Function that calculates the FS for infinite slopes.\n",
    "\n",
    "def InfiniteFS_Equation(alpha, D, Dw, Cr, q, Cs, thi, y, ysat, yw):\n",
    "    FS = ((Cr+Cs)+(((math.cos(toRadians(alpha))**2))*(q+(y*(D-Dw))+((ysat-yw)*Dw))*(math.tan(toRadians(thi)))))/((math.sin(toRadians(alpha))*math.cos(toRadians(alpha)))*(q + (y*(D-Dw))+(ysat*Dw)))\n",
    "    if FS < 1:\n",
    "        return(print(\"Slope failure, FS:\", FS))\n",
    "    else:\n",
    "        return(print(\"The slope is stable, FS:\", FS))\n",
    "\n",
    "InfiniteFS_Equation(alpha, D, Dw, Cr, q, Cs, thi, y, ysat, yw)\n",
    "    \n",
    "        "
   ]
  },
  {
   "cell_type": "code",
   "execution_count": null,
   "id": "da0c463f-72fe-40ee-9319-54239f9ac75a",
   "metadata": {},
   "outputs": [],
   "source": []
  }
 ],
 "metadata": {
  "kernelspec": {
   "display_name": "Python 3",
   "language": "python",
   "name": "python3"
  },
  "language_info": {
   "codemirror_mode": {
    "name": "ipython",
    "version": 3
   },
   "file_extension": ".py",
   "mimetype": "text/x-python",
   "name": "python",
   "nbconvert_exporter": "python",
   "pygments_lexer": "ipython3",
   "version": "3.8.8"
  }
 },
 "nbformat": 4,
 "nbformat_minor": 5
}
